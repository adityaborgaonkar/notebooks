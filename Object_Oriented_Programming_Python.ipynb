{
 "cells": [
  {
   "cell_type": "markdown",
   "metadata": {},
   "source": [
    "# Object Oriented Programming in Python"
   ]
  },
  {
   "cell_type": "markdown",
   "metadata": {},
   "source": [
    "## Basics"
   ]
  },
  {
   "cell_type": "code",
   "execution_count": 71,
   "metadata": {},
   "outputs": [
    {
     "name": "stdout",
     "output_type": "stream",
     "text": [
      "customer created\n",
      "Aditya Gold\n"
     ]
    }
   ],
   "source": [
    "class Customer:\n",
    "    # the __init__ is initializer/constructor method that gets executed by default everytime Customer is called/\n",
    "    def __init__(self, name, membership_type): # parameters\n",
    "        self.name = name\n",
    "        self.membership_type = membership_type\n",
    "        print(\"customer created\")\n",
    "    \n",
    "    def update_membership(self, new_membership):\n",
    "        # invoke an API\n",
    "        # update a database\n",
    "        # charge the customer\n",
    "        self.membership_type = new_membership\n",
    "        \n",
    "    def __str__(self):\n",
    "        return self.name + \" \" + self.membership_type\n",
    "    \n",
    "    def print_all_customers(customers):\n",
    "        for customer in customers:\n",
    "            print(customer)\n",
    "    \n",
    "    # for comparing attributes\n",
    "    def __eq__(self, other):\n",
    "         if self.name == other.name and self.membership_type == other.membership_type:\n",
    "            return True\n",
    "    \n",
    "    # hashing\n",
    "    __hash__ = None\n",
    "    \n",
    "    # representation of all data in a list\n",
    "    __repr__ = __str__\n",
    "    \n",
    "c = Customer(\"Aditya\", \"Gold\") # arguements\n",
    "print(c.name, c.membership_type)\n",
    "        "
   ]
  },
  {
   "cell_type": "code",
   "execution_count": 55,
   "metadata": {},
   "outputs": [
    {
     "name": "stdout",
     "output_type": "stream",
     "text": [
      "customer created\n",
      "Borg PLatinum\n"
     ]
    }
   ],
   "source": [
    "c2 = Customer(\"Borg\", \"PLatinum\")\n",
    "print(c2.name, c2.membership_type)"
   ]
  },
  {
   "cell_type": "code",
   "execution_count": 56,
   "metadata": {},
   "outputs": [
    {
     "name": "stdout",
     "output_type": "stream",
     "text": [
      "customer created\n",
      "customer created\n"
     ]
    }
   ],
   "source": [
    "customers = [Customer(\"adib0rg\", \"Gold\"),\n",
    "             Customer(\"4ditya\", \"Platinum\")]\n"
   ]
  },
  {
   "cell_type": "code",
   "execution_count": 57,
   "metadata": {},
   "outputs": [
    {
     "name": "stdout",
     "output_type": "stream",
     "text": [
      "adib0rg\n"
     ]
    }
   ],
   "source": [
    "print(customers[0].name)"
   ]
  },
  {
   "cell_type": "code",
   "execution_count": 58,
   "metadata": {},
   "outputs": [
    {
     "name": "stdout",
     "output_type": "stream",
     "text": [
      "4ditya\n"
     ]
    }
   ],
   "source": [
    "print(customers[1].name)"
   ]
  },
  {
   "cell_type": "code",
   "execution_count": 59,
   "metadata": {},
   "outputs": [
    {
     "name": "stdout",
     "output_type": "stream",
     "text": [
      "False\n"
     ]
    }
   ],
   "source": [
    "customers[0].verified = False\n",
    "print(customers[0].verified)"
   ]
  },
  {
   "cell_type": "code",
   "execution_count": 60,
   "metadata": {},
   "outputs": [
    {
     "name": "stdout",
     "output_type": "stream",
     "text": [
      "Platinum\n",
      "Gold\n"
     ]
    }
   ],
   "source": [
    "print(customers[1].membership_type) # before\n",
    "customers[1].update_membership(\"Gold\")\n",
    "print(customers[1].membership_type) # after"
   ]
  },
  {
   "cell_type": "code",
   "execution_count": 61,
   "metadata": {},
   "outputs": [
    {
     "name": "stdout",
     "output_type": "stream",
     "text": [
      "4ditya Gold\n"
     ]
    }
   ],
   "source": [
    "customers[1].update_membership(\"Gold\")\n",
    "print(customers[1])"
   ]
  },
  {
   "cell_type": "code",
   "execution_count": 62,
   "metadata": {},
   "outputs": [
    {
     "name": "stdout",
     "output_type": "stream",
     "text": [
      "adib0rg Gold\n",
      "4ditya Gold\n"
     ]
    }
   ],
   "source": [
    "Customer.print_all_customers(customers)"
   ]
  },
  {
   "cell_type": "code",
   "execution_count": 69,
   "metadata": {},
   "outputs": [
    {
     "name": "stdout",
     "output_type": "stream",
     "text": [
      "False\n"
     ]
    }
   ],
   "source": [
    "print(id(customers[0]) == id(customers[1]))"
   ]
  },
  {
   "cell_type": "markdown",
   "metadata": {},
   "source": [
    "## Encapulation"
   ]
  },
  {
   "cell_type": "code",
   "execution_count": null,
   "metadata": {},
   "outputs": [],
   "source": []
  },
  {
   "cell_type": "markdown",
   "metadata": {},
   "source": [
    "## Inheritance"
   ]
  },
  {
   "cell_type": "code",
   "execution_count": null,
   "metadata": {},
   "outputs": [],
   "source": []
  },
  {
   "cell_type": "markdown",
   "metadata": {},
   "source": [
    "## Polymorphism"
   ]
  },
  {
   "cell_type": "code",
   "execution_count": null,
   "metadata": {},
   "outputs": [],
   "source": []
  }
 ],
 "metadata": {
  "kernelspec": {
   "display_name": "Python 3",
   "language": "python",
   "name": "python3"
  },
  "language_info": {
   "codemirror_mode": {
    "name": "ipython",
    "version": 3
   },
   "file_extension": ".py",
   "mimetype": "text/x-python",
   "name": "python",
   "nbconvert_exporter": "python",
   "pygments_lexer": "ipython3",
   "version": "3.8.5"
  }
 },
 "nbformat": 4,
 "nbformat_minor": 4
}
